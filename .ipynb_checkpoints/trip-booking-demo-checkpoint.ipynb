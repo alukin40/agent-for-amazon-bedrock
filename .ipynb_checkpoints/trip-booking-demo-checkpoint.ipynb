{
 "cells": [
  {
   "cell_type": "markdown",
   "id": "d54e5584-7150-4ec2-9c13-52516359be8f",
   "metadata": {},
   "source": [
    "# Intro"
   ]
  },
  {
   "cell_type": "markdown",
   "id": "466258d2-5993-4007-8915-68f3b2118f08",
   "metadata": {},
   "source": [
    "This is a demo covering:\n",
    "1. Setting up an Agent for Amazon Bedrock using AWS Console\n",
    "2. How to debugg the Agent\n",
    "3. How to deploy an Agent\n",
    "4. How to call it from code\n",
    "\n",
    "## Scenario we are trying to achieve\n",
    "You have a task to setup an automated bot as a backend for your application to enable your users to book trips to the required destination by bus or by plane for a specific date. Users wants to communicate with a system in a natual language. System should be intelligent enough to gather missing information from the user, and automatically get this information from differen sources if required. When the trip is booked, agent need to find relevant information from internal documents about maximum baggage allowance and what will happen if the trip will be delayed, and include this information into the final response for the user.\n",
    "\n",
    "In the same directory you will find next assets:\n",
    "- `trip-terms` - folder with Markdown files with generated information for Flight terms and Bus terms. These are used in Knowledge base for RAG use-case.\n",
    "- `user-details-api` - folder with Python code for AWS Lambda function which is called for getting user details based on the user id, and OpenAPI schema for this Lambda function, so Agent for Amazon Bedrock can use this API as an Action Group.\n",
    "- `trip-booking-api` - folder with Python code for AWS Lambda function which is called for booking the trip based on provided information, and OpenAPI schema for this Lambda function, so Agent for Amazon Bedrock can use this API as an Action Group.\n",
    "\n",
    "> **Warning**\n",
    "> Be aware, it is NOT CDK or CFN project, so you will have to clean up all reasources manually!\n",
    "> Be aware of costs assiciated with the solution, check out costs on https://calculator.aws/#/"
   ]
  },
  {
   "cell_type": "markdown",
   "id": "d513a46e-62b5-4527-a9ac-5144a569e4ed",
   "metadata": {},
   "source": [
    "# Setting up a Knowledge Base\n",
    "\n",
    "## Upload trip terms to S3 bucket\n",
    "Take Markdown files from `trip-terms/` folder and upload it to a new S3 bucket.\n",
    "\n",
    "### Create bucket"
   ]
  },
  {
   "cell_type": "code",
   "execution_count": null,
   "id": "902a8d72-c0d6-4201-842e-072e8763e305",
   "metadata": {
    "tags": []
   },
   "outputs": [],
   "source": [
    "import boto3\n",
    "\n",
    "# Create an STS client\n",
    "sts_client = boto3.client('sts')\n",
    "\n",
    "# Call the get_caller_identity method to retrieve account details\n",
    "account_id = sts_client.get_caller_identity()[\"Account\"]\n",
    "\n",
    "# Format the bucket name\n",
    "bucket_name_knowledge = f'knowledge-base-agents-demo-{account_id}'\n",
    "\n",
    "# Create an S3 client\n",
    "s3_client = boto3.client('s3')\n",
    "\n",
    "# Check if the bucket already exists\n",
    "existing_buckets = s3_client.list_buckets()\n",
    "\n",
    "if any(bucket['Name'] == bucket_name_knowledge for bucket in existing_buckets['Buckets']):\n",
    "    print(f'Bucket {bucket_name_knowledge} already exists.')\n",
    "else:\n",
    "    # Attempt to create the bucket if it does not exist\n",
    "    try:\n",
    "        s3_client.create_bucket(Bucket=bucket_name_knowledge)\n",
    "        print(f'Bucket {bucket_name_knowledge} created successfully.')\n",
    "    except Exception as e:\n",
    "        print(f'Error creating bucket: {e}')\n"
   ]
  },
  {
   "cell_type": "markdown",
   "id": "f6869ba7-d610-4941-ae46-d781767b870b",
   "metadata": {},
   "source": [
    "### Upload files"
   ]
  },
  {
   "cell_type": "code",
   "execution_count": null,
   "id": "d0a83b83-c5d8-479f-9e80-21672266c66f",
   "metadata": {
    "tags": []
   },
   "outputs": [],
   "source": [
    "import os\n",
    "\n",
    "# Specify the directory containing the files\n",
    "directory = './trip-terms'\n",
    "\n",
    "# Iterate over the files in the directory\n",
    "for filename in os.listdir(directory):\n",
    "    # Construct the full file path\n",
    "    file_path = os.path.join(directory, filename)\n",
    "    \n",
    "    # Check if it's a file (and not a directory/subdirectory)\n",
    "    if os.path.isfile(file_path):\n",
    "        # Define the S3 key (name) for the file\n",
    "        # You might want to customize this to include subdirectories or modify file names\n",
    "        s3_key = filename\n",
    "        \n",
    "        try:\n",
    "            # Upload the file to S3\n",
    "            s3_client.upload_file(Filename=file_path, Bucket=bucket_name, Key=s3_key)\n",
    "            print(f'Successfully uploaded {filename} to {bucket_name}/{s3_key}.')\n",
    "        except Exception as e:\n",
    "            print(f'Error uploading {filename}: {e}')"
   ]
  },
  {
   "cell_type": "markdown",
   "id": "b0ae5706-30c6-43b7-8d15-3a27b780f7b9",
   "metadata": {},
   "source": [
    "### Setup Knowledge base\n",
    "\n",
    "> NOTE - we will do it via Console, so it can create an OpenSearch cluster for us, otherwise you have to create an OpneSearch Cluster separately\n",
    "\n",
    "Follow the documentation here - https://docs.aws.amazon.com/bedrock/latest/userguide/knowledge-base-create.html and use your bucket `knowledge-base-agents-demo-{YOUR-ACCOUNT-ID}` as input for it.\n",
    "\n",
    "> NOTE - after you create it, you need to SYNC it, use button \"SYNC\" in \"Data Source\" section."
   ]
  },
  {
   "cell_type": "markdown",
   "id": "2521b1e4-8ebd-48e4-813a-33c2ffe7a4f5",
   "metadata": {},
   "source": [
    "# Create Lambdas for Agent\n",
    "\n",
    "### First, create a new bucket for OpenAPI schema"
   ]
  },
  {
   "cell_type": "code",
   "execution_count": null,
   "id": "56c3bfa7-d4e8-4379-b055-1178d259ff7c",
   "metadata": {
    "tags": []
   },
   "outputs": [],
   "source": [
    "# Format the bucket name\n",
    "bucket_name_schema = f'openapi-schema-agents-demo-{account_id}'\n",
    "\n",
    "# List all buckets and check if the bucket already exists\n",
    "existing_buckets = s3_client.list_buckets()\n",
    "\n",
    "if any(bucket['Name'] == bucket_name_schema for bucket in existing_buckets['Buckets']):\n",
    "    print(f'Bucket {bucket_name_schema} already exists.')\n",
    "else:\n",
    "    # Create the bucket if it does not exist\n",
    "    try:\n",
    "        s3_client.create_bucket(Bucket=bucket_name_schema)\n",
    "        print(f'Bucket {bucket_name_schema} created successfully.')\n",
    "    except Exception as e:\n",
    "        print(f'Error creating bucket: {e}')\n"
   ]
  },
  {
   "cell_type": "markdown",
   "id": "ac157e60-cd38-4b76-ab36-e4c764548b34",
   "metadata": {},
   "source": [
    "### Upload Open API schemas"
   ]
  },
  {
   "cell_type": "code",
   "execution_count": null,
   "id": "4322bf51-5a03-47db-8000-a76d3c02e540",
   "metadata": {
    "tags": []
   },
   "outputs": [],
   "source": [
    "# Define the files and their respective S3 keys\n",
    "files_to_upload = {\n",
    "    './user-details-api/user-details-open-api-schema.json': 'user-details-open-api-schema.json',\n",
    "    './trip-booking-api/book-trip-open-api-schema.json': 'book-trip-open-api-schema.json'\n",
    "}\n",
    "\n",
    "# Upload each file to the specified S3 bucket\n",
    "for local_path, s3_key in files_to_upload.items():\n",
    "    try:\n",
    "        s3_client.upload_file(Filename=local_path, Bucket=bucket_name_schema, Key=s3_key)\n",
    "        print(f'Successfully uploaded {s3_key} to {bucket_name_schema}.')\n",
    "    except Exception as e:\n",
    "        print(f'Error uploading {s3_key}: {e}')\n"
   ]
  },
  {
   "cell_type": "markdown",
   "id": "42330fe3-17d8-4c45-9f32-20fdc58aadbc",
   "metadata": {},
   "source": [
    "### Create lambdas\n",
    "\n",
    "1st - Create Basic Lambda Execution Role"
   ]
  },
  {
   "cell_type": "code",
   "execution_count": null,
   "id": "9148f93f-bcb2-4e60-9e48-8bff9319e27c",
   "metadata": {
    "tags": []
   },
   "outputs": [],
   "source": [
    "import json\n",
    "\n",
    "# Initialize the Boto3 client for IAM\n",
    "iam_client = boto3.client('iam')\n",
    "\n",
    "# The trust relationship policy document\n",
    "trust_relationship = {\n",
    "    \"Version\": \"2012-10-17\",\n",
    "    \"Statement\": [\n",
    "        {\n",
    "            \"Effect\": \"Allow\",\n",
    "            \"Principal\": {\n",
    "                \"Service\": \"lambda.amazonaws.com\"\n",
    "            },\n",
    "            \"Action\": \"sts:AssumeRole\"\n",
    "        }\n",
    "    ]\n",
    "}\n",
    "\n",
    "# Policy document for CloudWatch Logs actions\n",
    "policy_document = {\n",
    "    \"Version\": \"2012-10-17\",\n",
    "    \"Statement\": [\n",
    "        {\n",
    "            \"Effect\": \"Allow\",\n",
    "            \"Action\": [\n",
    "                \"logs:CreateLogGroup\",\n",
    "                \"logs:CreateLogStream\",\n",
    "                \"logs:PutLogEvents\"\n",
    "            ],\n",
    "            \"Resource\": \"*\"\n",
    "        }\n",
    "    ]\n",
    "}\n",
    "\n",
    "try:\n",
    "    # Create the IAM role\n",
    "    role_name = 'LambdaExecutionRole'\n",
    "    description = 'Execution role for Lambda with CloudWatch logs access'\n",
    "\n",
    "    create_role_response = iam_client.create_role(\n",
    "        RoleName=role_name,\n",
    "        AssumeRolePolicyDocument=json.dumps(trust_relationship),\n",
    "        Description=description\n",
    "    )\n",
    "    role_arn = create_role_response['Role']['Arn']\n",
    "    print(f'Created IAM role: {role_name}')\n",
    "\n",
    "    # Create and attach the inline policy for CloudWatch Logs\n",
    "    policy_name = 'LambdaCloudWatchLogsPolicy'\n",
    "    iam_client.put_role_policy(\n",
    "        RoleName=role_name,\n",
    "        PolicyName=policy_name,\n",
    "        PolicyDocument=json.dumps(policy_document)\n",
    "    )\n",
    "    print(f'Attached inline policy for CloudWatch Logs to {role_name}')\n",
    "\n",
    "    print(f'Role ARN: {role_arn}')\n",
    "\n",
    "except Exception as e:\n",
    "    print(f'Error creating IAM role or attaching policy: {e}')\n"
   ]
  },
  {
   "cell_type": "markdown",
   "id": "e35b556d-6c85-4d9d-956d-386b4f1471d8",
   "metadata": {},
   "source": [
    "2nd - Create Lambda for User details API"
   ]
  },
  {
   "cell_type": "code",
   "execution_count": null,
   "id": "7166f4b7-368e-42a4-98cb-86f36742bf56",
   "metadata": {
    "tags": []
   },
   "outputs": [],
   "source": [
    "import zipfile\n",
    "import os\n",
    "\n",
    "# Package the Python script into a ZIP file\n",
    "zip_file_path = 'user-details.zip'\n",
    "with zipfile.ZipFile(zip_file_path, 'w') as zipf:\n",
    "    zipf.write('./user-details-api/user-details.py', 'user-details.py')\n",
    "\n",
    "# Initialize the Boto3 client for Lambda\n",
    "lambda_client = boto3.client('lambda')\n",
    "\n",
    "# Specify the IAM role ARN (replace this with your actual IAM role ARN)\n",
    "role_arn = f'arn:aws:iam::{account_id}:role/LambdaExecutionRole'\n",
    "\n",
    "# Create the Lambda function\n",
    "try:\n",
    "    with open(zip_file_path, 'rb') as zipf:\n",
    "        response = lambda_client.create_function(\n",
    "            FunctionName='UserDetailsFunction',\n",
    "            Runtime='python3.8',  # Specify the correct runtime according to your Python version\n",
    "            Role=role_arn,\n",
    "            Handler='user-details.lambda_handler',  # Format: <file-name-without-extension>.<handler-function-name>\n",
    "            Code={\n",
    "                'ZipFile': zipf.read(),\n",
    "            },\n",
    "            Description='A Lambda function to handle user details.',\n",
    "            Timeout=15,  # Maximum execution time in seconds (adjust as needed)\n",
    "            MemorySize=128,  # Allocated memory in MB (adjust as needed)\n",
    "        )\n",
    "    print(\"Lambda function created successfully:\", response)\n",
    "except Exception as e:\n",
    "    print(\"Error creating Lambda function:\", e)\n",
    "finally:\n",
    "    # Clean up: Remove the ZIP file after the Lambda function has been created\n",
    "    os.remove(zip_file_path)\n"
   ]
  },
  {
   "cell_type": "markdown",
   "id": "5f3c725c-ecc8-4061-9e15-e366e0b7c108",
   "metadata": {},
   "source": [
    "3rd - Create Lambda for Trip Booking API"
   ]
  },
  {
   "cell_type": "code",
   "execution_count": null,
   "id": "2a27bd2b-4f7c-436b-a948-f2cc5f39c965",
   "metadata": {},
   "outputs": [],
   "source": [
    "import zipfile\n",
    "import os\n",
    "\n",
    "# Package the Python script into a ZIP file\n",
    "zip_file_path = 'trip-booking.zip'\n",
    "with zipfile.ZipFile(zip_file_path, 'w') as zipf:\n",
    "    zipf.write('./trip-booking-api/trip-booking-lambda.py', 'trip-booking-lambda.py')\n",
    "\n",
    "# Initialize the Boto3 client for Lambda\n",
    "lambda_client = boto3.client('lambda')\n",
    "\n",
    "# Specify the IAM role ARN (replace this with your actual IAM role ARN)\n",
    "role_arn = f'arn:aws:iam::{account_id}:role/LambdaExecutionRole'\n",
    "\n",
    "# Create the Lambda function\n",
    "try:\n",
    "    with open(zip_file_path, 'rb') as zipf:\n",
    "        response = lambda_client.create_function(\n",
    "            FunctionName='TripBookingFunction',\n",
    "            Runtime='python3.8',  # Specify the correct runtime according to your Python version\n",
    "            Role=role_arn,\n",
    "            Handler='user-details.lambda_handler',  # Format: <file-name-without-extension>.<handler-function-name>\n",
    "            Code={\n",
    "                'ZipFile': zipf.read(),\n",
    "            },\n",
    "            Description='A Lambda function to handle trip bookings.',\n",
    "            Timeout=15,  # Maximum execution time in seconds (adjust as needed)\n",
    "            MemorySize=128,  # Allocated memory in MB (adjust as needed)\n",
    "        )\n",
    "    print(\"Lambda function created successfully:\", response)\n",
    "except Exception as e:\n",
    "    print(\"Error creating Lambda function:\", e)\n",
    "finally:\n",
    "    # Clean up: Remove the ZIP file after the Lambda function has been created\n",
    "    os.remove(zip_file_path)\n"
   ]
  },
  {
   "cell_type": "markdown",
   "id": "388984f0-def8-4396-b20b-97afa716cd1a",
   "metadata": {},
   "source": [
    "# Create Agent\n",
    "\n",
    "Now, let's create an agent it-self.\n",
    "\n",
    "TBD - follow documentation on https://docs.aws.amazon.com/bedrock/latest/userguide/agents-create.html \n",
    "\n",
    "Use the next Prompt for the Basic Instructions for Agent:\n",
    "> You are an agent who performs the next tasks for the user:\n",
    "> 1/ Get the information about the user based on provided userId, you obtain his name and surname by that.\n",
    "> 2/ Do a booking for a trip for his name and surname you found.\n",
    "> 3/ In confirmation message include information about baggage size allowance and what will happen in case of trip delay for selected type of transport.\n",
    "\n",
    "I recommend to use Claude V2 as an LLM behind Agent, as it understand instructions better. The trade-off is the speed (Claude Instant is faster) and price (Claude Instant is cheaper). So, if you need to optimize for performance and cost - try out Claude Instant, but you need to test if it will work properly with provided Basic instructions and most probably it will have to be adjusted.\n",
    "\n",
    "Then, define you Action Group. Here you need to define your Lambdas created in previous steps and define their Open API schemas uploaded to S3 bucket `openapi-schema-agents-demo-{YOUR-ACCOUNT-ID}`. In total, you will have 2 Action Groups: 1/ for User Details API, 2/ for Trip Booking API.\n",
    "\n",
    "Then, define a Knowledge base you created before with `trip-terms`. For Description use something like `Here is information about general terms for trips by bus and airplane.`. It will be used by your Agent to undestand what it can find there.\n",
    "\n",
    "> **Warning**\n",
    "> AFTER you will create Agent, you need to add Resource Based Permissions for Lambda, so it can be called by Bedrock service! Here is an example of such policy. Do this for each Action Group / Lambda.\n"
   ]
  },
  {
   "cell_type": "raw",
   "id": "f5145e18-72e5-4a6e-80de-3edbb2a304d9",
   "metadata": {},
   "source": [
    "{\n",
    "  \"Version\": \"2012-10-17\",\n",
    "  \"Id\": \"default\",\n",
    "  \"Statement\": [\n",
    "    {\n",
    "      \"Sid\": \"custom-bedrock\",\n",
    "      \"Effect\": \"Allow\",\n",
    "      \"Principal\": {\n",
    "        \"Service\": \"bedrock.amazonaws.com\"\n",
    "      },\n",
    "      \"Action\": \"lambda:InvokeFunction\",\n",
    "      \"Resource\": \"arn:aws:lambda:us-east-1:{YOUR-ACCOUNT-ID}:function:UserDetailsFunction\",\n",
    "      \"Condition\": {\n",
    "        \"ArnLike\": {\n",
    "          \"AWS:SourceArn\": \"arn:aws:bedrock:us-east-1:{YOUR-ACCOUNT-ID}:agent/{AGENT-ID}\"\n",
    "        }\n",
    "      }\n",
    "    }\n",
    "  ]\n",
    "}"
   ]
  },
  {
   "cell_type": "markdown",
   "id": "8eb224f4-1cc2-4da1-96b0-13a6a50f5c28",
   "metadata": {},
   "source": [
    "# Test your Agent and see the Traces to Debugg its behaviour\n",
    "\n",
    "To do that, follow docs. https://docs.aws.amazon.com/bedrock/latest/userguide/agents-test.html.\n",
    "\n",
    "If you will open your agent, on the left side you will see the chat window, and if you will expand it, while you will be sending requests in the chat, you will see Traces in the right menu. These are Chain of Thoughts and actions performed by your agent to accomplish the task.\n",
    "\n",
    "Try to put into the chat:\n",
    "> I have a userid 1, do a booking of trip to Bratislava at 12 Feb 2024 by bus."
   ]
  },
  {
   "cell_type": "markdown",
   "id": "895c6e7a-2988-44cb-a5bb-7e3ca31a46ff",
   "metadata": {},
   "source": [
    "# Deploy your agent\n",
    "\n",
    "Follow docs - https://docs.aws.amazon.com/bedrock/latest/userguide/agents-deploy.html\n",
    "\n",
    "You will create an Alias an Version of your Agent, and then associate your Version with an Alias. E.g. have Alias `PROD` and Version `Version 1`."
   ]
  },
  {
   "cell_type": "markdown",
   "id": "0616a09c-0027-46f3-b693-1fe16fbc1633",
   "metadata": {},
   "source": [
    "# Call your agent from the code via Python SDK \n",
    "\n",
    "You can do the same in other languages using AWS SDK."
   ]
  },
  {
   "cell_type": "markdown",
   "id": "1bb38820-afcc-4a28-8748-c82626761414",
   "metadata": {},
   "source": [
    "### First, environment setup"
   ]
  },
  {
   "cell_type": "code",
   "execution_count": null,
   "id": "799e70e9-f152-4581-9180-ead7b7b50bb9",
   "metadata": {
    "tags": []
   },
   "outputs": [],
   "source": [
    "import boto3\n",
    "import uuid\n",
    "import json\n",
    "\n",
    "client = boto3.client('bedrock-agent-runtime')"
   ]
  },
  {
   "cell_type": "markdown",
   "id": "4c589722-4fb4-40fb-8a48-a7f70defe9cb",
   "metadata": {},
   "source": [
    "### Define your Agent ID with Alias ID and Prompt"
   ]
  },
  {
   "cell_type": "code",
   "execution_count": null,
   "id": "16aef7a2-ffde-4ba4-98ea-753db351bf17",
   "metadata": {
    "tags": []
   },
   "outputs": [],
   "source": [
    "agent_id = '1RYL9BCNPV'\n",
    "agent_alias_id = 'QPC7UHH6KF'\n",
    "session_id = str(uuid.uuid4().hex)"
   ]
  },
  {
   "cell_type": "code",
   "execution_count": null,
   "id": "7f689fd2-34bf-46f3-a5b1-eb17a64404bc",
   "metadata": {
    "tags": []
   },
   "outputs": [],
   "source": [
    "user_prompt = 'I have a userid 2, do a booking of trip to Paris at 24 may 2024 by plane.'"
   ]
  },
  {
   "cell_type": "markdown",
   "id": "473e042f-1a98-4aea-b90d-1d04b2f2da14",
   "metadata": {},
   "source": [
    "### Invoke Bedrock client\n",
    "\n",
    "You invoke your Bedrock client based on provided agent id and alias id, pass it your user prompt, and then parse the result. Optionally you can pass chat history, but this is not included into the demo.\n",
    "\n",
    "You can also parse and see Traces as well (similar as in the AWS Console). I included it here, so you can see Traces as well in real-time."
   ]
  },
  {
   "cell_type": "code",
   "execution_count": null,
   "id": "b6fd5736-a31d-409c-97fa-df480fb023ce",
   "metadata": {
    "tags": []
   },
   "outputs": [],
   "source": [
    "response = client.invoke_agent(\n",
    "    inputText = user_prompt,\n",
    "    agentId = agent_id,\n",
    "    agentAliasId = agent_alias_id,\n",
    "    sessionId = session_id,\n",
    "    enableTrace = True\n",
    ")\n",
    "\n",
    "for event in response['completion']:\n",
    "    if 'chunk' in event:\n",
    "        data = event['chunk']['bytes']\n",
    "        answer = data.decode('utf8')\n",
    "        print(f'Answer:\\n{answer}')\n",
    "    elif 'trace' in event:\n",
    "        print(json.dumps(event['trace'], indent=2))\n"
   ]
  },
  {
   "cell_type": "code",
   "execution_count": null,
   "id": "e92a4979-5c55-44d4-9dae-e493574cfe51",
   "metadata": {},
   "outputs": [],
   "source": []
  }
 ],
 "metadata": {
  "availableInstances": [
   {
    "_defaultOrder": 0,
    "_isFastLaunch": true,
    "category": "General purpose",
    "gpuNum": 0,
    "hideHardwareSpecs": false,
    "memoryGiB": 4,
    "name": "ml.t3.medium",
    "vcpuNum": 2
   },
   {
    "_defaultOrder": 1,
    "_isFastLaunch": false,
    "category": "General purpose",
    "gpuNum": 0,
    "hideHardwareSpecs": false,
    "memoryGiB": 8,
    "name": "ml.t3.large",
    "vcpuNum": 2
   },
   {
    "_defaultOrder": 2,
    "_isFastLaunch": false,
    "category": "General purpose",
    "gpuNum": 0,
    "hideHardwareSpecs": false,
    "memoryGiB": 16,
    "name": "ml.t3.xlarge",
    "vcpuNum": 4
   },
   {
    "_defaultOrder": 3,
    "_isFastLaunch": false,
    "category": "General purpose",
    "gpuNum": 0,
    "hideHardwareSpecs": false,
    "memoryGiB": 32,
    "name": "ml.t3.2xlarge",
    "vcpuNum": 8
   },
   {
    "_defaultOrder": 4,
    "_isFastLaunch": true,
    "category": "General purpose",
    "gpuNum": 0,
    "hideHardwareSpecs": false,
    "memoryGiB": 8,
    "name": "ml.m5.large",
    "vcpuNum": 2
   },
   {
    "_defaultOrder": 5,
    "_isFastLaunch": false,
    "category": "General purpose",
    "gpuNum": 0,
    "hideHardwareSpecs": false,
    "memoryGiB": 16,
    "name": "ml.m5.xlarge",
    "vcpuNum": 4
   },
   {
    "_defaultOrder": 6,
    "_isFastLaunch": false,
    "category": "General purpose",
    "gpuNum": 0,
    "hideHardwareSpecs": false,
    "memoryGiB": 32,
    "name": "ml.m5.2xlarge",
    "vcpuNum": 8
   },
   {
    "_defaultOrder": 7,
    "_isFastLaunch": false,
    "category": "General purpose",
    "gpuNum": 0,
    "hideHardwareSpecs": false,
    "memoryGiB": 64,
    "name": "ml.m5.4xlarge",
    "vcpuNum": 16
   },
   {
    "_defaultOrder": 8,
    "_isFastLaunch": false,
    "category": "General purpose",
    "gpuNum": 0,
    "hideHardwareSpecs": false,
    "memoryGiB": 128,
    "name": "ml.m5.8xlarge",
    "vcpuNum": 32
   },
   {
    "_defaultOrder": 9,
    "_isFastLaunch": false,
    "category": "General purpose",
    "gpuNum": 0,
    "hideHardwareSpecs": false,
    "memoryGiB": 192,
    "name": "ml.m5.12xlarge",
    "vcpuNum": 48
   },
   {
    "_defaultOrder": 10,
    "_isFastLaunch": false,
    "category": "General purpose",
    "gpuNum": 0,
    "hideHardwareSpecs": false,
    "memoryGiB": 256,
    "name": "ml.m5.16xlarge",
    "vcpuNum": 64
   },
   {
    "_defaultOrder": 11,
    "_isFastLaunch": false,
    "category": "General purpose",
    "gpuNum": 0,
    "hideHardwareSpecs": false,
    "memoryGiB": 384,
    "name": "ml.m5.24xlarge",
    "vcpuNum": 96
   },
   {
    "_defaultOrder": 12,
    "_isFastLaunch": false,
    "category": "General purpose",
    "gpuNum": 0,
    "hideHardwareSpecs": false,
    "memoryGiB": 8,
    "name": "ml.m5d.large",
    "vcpuNum": 2
   },
   {
    "_defaultOrder": 13,
    "_isFastLaunch": false,
    "category": "General purpose",
    "gpuNum": 0,
    "hideHardwareSpecs": false,
    "memoryGiB": 16,
    "name": "ml.m5d.xlarge",
    "vcpuNum": 4
   },
   {
    "_defaultOrder": 14,
    "_isFastLaunch": false,
    "category": "General purpose",
    "gpuNum": 0,
    "hideHardwareSpecs": false,
    "memoryGiB": 32,
    "name": "ml.m5d.2xlarge",
    "vcpuNum": 8
   },
   {
    "_defaultOrder": 15,
    "_isFastLaunch": false,
    "category": "General purpose",
    "gpuNum": 0,
    "hideHardwareSpecs": false,
    "memoryGiB": 64,
    "name": "ml.m5d.4xlarge",
    "vcpuNum": 16
   },
   {
    "_defaultOrder": 16,
    "_isFastLaunch": false,
    "category": "General purpose",
    "gpuNum": 0,
    "hideHardwareSpecs": false,
    "memoryGiB": 128,
    "name": "ml.m5d.8xlarge",
    "vcpuNum": 32
   },
   {
    "_defaultOrder": 17,
    "_isFastLaunch": false,
    "category": "General purpose",
    "gpuNum": 0,
    "hideHardwareSpecs": false,
    "memoryGiB": 192,
    "name": "ml.m5d.12xlarge",
    "vcpuNum": 48
   },
   {
    "_defaultOrder": 18,
    "_isFastLaunch": false,
    "category": "General purpose",
    "gpuNum": 0,
    "hideHardwareSpecs": false,
    "memoryGiB": 256,
    "name": "ml.m5d.16xlarge",
    "vcpuNum": 64
   },
   {
    "_defaultOrder": 19,
    "_isFastLaunch": false,
    "category": "General purpose",
    "gpuNum": 0,
    "hideHardwareSpecs": false,
    "memoryGiB": 384,
    "name": "ml.m5d.24xlarge",
    "vcpuNum": 96
   },
   {
    "_defaultOrder": 20,
    "_isFastLaunch": false,
    "category": "General purpose",
    "gpuNum": 0,
    "hideHardwareSpecs": true,
    "memoryGiB": 0,
    "name": "ml.geospatial.interactive",
    "supportedImageNames": [
     "sagemaker-geospatial-v1-0"
    ],
    "vcpuNum": 0
   },
   {
    "_defaultOrder": 21,
    "_isFastLaunch": true,
    "category": "Compute optimized",
    "gpuNum": 0,
    "hideHardwareSpecs": false,
    "memoryGiB": 4,
    "name": "ml.c5.large",
    "vcpuNum": 2
   },
   {
    "_defaultOrder": 22,
    "_isFastLaunch": false,
    "category": "Compute optimized",
    "gpuNum": 0,
    "hideHardwareSpecs": false,
    "memoryGiB": 8,
    "name": "ml.c5.xlarge",
    "vcpuNum": 4
   },
   {
    "_defaultOrder": 23,
    "_isFastLaunch": false,
    "category": "Compute optimized",
    "gpuNum": 0,
    "hideHardwareSpecs": false,
    "memoryGiB": 16,
    "name": "ml.c5.2xlarge",
    "vcpuNum": 8
   },
   {
    "_defaultOrder": 24,
    "_isFastLaunch": false,
    "category": "Compute optimized",
    "gpuNum": 0,
    "hideHardwareSpecs": false,
    "memoryGiB": 32,
    "name": "ml.c5.4xlarge",
    "vcpuNum": 16
   },
   {
    "_defaultOrder": 25,
    "_isFastLaunch": false,
    "category": "Compute optimized",
    "gpuNum": 0,
    "hideHardwareSpecs": false,
    "memoryGiB": 72,
    "name": "ml.c5.9xlarge",
    "vcpuNum": 36
   },
   {
    "_defaultOrder": 26,
    "_isFastLaunch": false,
    "category": "Compute optimized",
    "gpuNum": 0,
    "hideHardwareSpecs": false,
    "memoryGiB": 96,
    "name": "ml.c5.12xlarge",
    "vcpuNum": 48
   },
   {
    "_defaultOrder": 27,
    "_isFastLaunch": false,
    "category": "Compute optimized",
    "gpuNum": 0,
    "hideHardwareSpecs": false,
    "memoryGiB": 144,
    "name": "ml.c5.18xlarge",
    "vcpuNum": 72
   },
   {
    "_defaultOrder": 28,
    "_isFastLaunch": false,
    "category": "Compute optimized",
    "gpuNum": 0,
    "hideHardwareSpecs": false,
    "memoryGiB": 192,
    "name": "ml.c5.24xlarge",
    "vcpuNum": 96
   },
   {
    "_defaultOrder": 29,
    "_isFastLaunch": true,
    "category": "Accelerated computing",
    "gpuNum": 1,
    "hideHardwareSpecs": false,
    "memoryGiB": 16,
    "name": "ml.g4dn.xlarge",
    "vcpuNum": 4
   },
   {
    "_defaultOrder": 30,
    "_isFastLaunch": false,
    "category": "Accelerated computing",
    "gpuNum": 1,
    "hideHardwareSpecs": false,
    "memoryGiB": 32,
    "name": "ml.g4dn.2xlarge",
    "vcpuNum": 8
   },
   {
    "_defaultOrder": 31,
    "_isFastLaunch": false,
    "category": "Accelerated computing",
    "gpuNum": 1,
    "hideHardwareSpecs": false,
    "memoryGiB": 64,
    "name": "ml.g4dn.4xlarge",
    "vcpuNum": 16
   },
   {
    "_defaultOrder": 32,
    "_isFastLaunch": false,
    "category": "Accelerated computing",
    "gpuNum": 1,
    "hideHardwareSpecs": false,
    "memoryGiB": 128,
    "name": "ml.g4dn.8xlarge",
    "vcpuNum": 32
   },
   {
    "_defaultOrder": 33,
    "_isFastLaunch": false,
    "category": "Accelerated computing",
    "gpuNum": 4,
    "hideHardwareSpecs": false,
    "memoryGiB": 192,
    "name": "ml.g4dn.12xlarge",
    "vcpuNum": 48
   },
   {
    "_defaultOrder": 34,
    "_isFastLaunch": false,
    "category": "Accelerated computing",
    "gpuNum": 1,
    "hideHardwareSpecs": false,
    "memoryGiB": 256,
    "name": "ml.g4dn.16xlarge",
    "vcpuNum": 64
   },
   {
    "_defaultOrder": 35,
    "_isFastLaunch": false,
    "category": "Accelerated computing",
    "gpuNum": 1,
    "hideHardwareSpecs": false,
    "memoryGiB": 61,
    "name": "ml.p3.2xlarge",
    "vcpuNum": 8
   },
   {
    "_defaultOrder": 36,
    "_isFastLaunch": false,
    "category": "Accelerated computing",
    "gpuNum": 4,
    "hideHardwareSpecs": false,
    "memoryGiB": 244,
    "name": "ml.p3.8xlarge",
    "vcpuNum": 32
   },
   {
    "_defaultOrder": 37,
    "_isFastLaunch": false,
    "category": "Accelerated computing",
    "gpuNum": 8,
    "hideHardwareSpecs": false,
    "memoryGiB": 488,
    "name": "ml.p3.16xlarge",
    "vcpuNum": 64
   },
   {
    "_defaultOrder": 38,
    "_isFastLaunch": false,
    "category": "Accelerated computing",
    "gpuNum": 8,
    "hideHardwareSpecs": false,
    "memoryGiB": 768,
    "name": "ml.p3dn.24xlarge",
    "vcpuNum": 96
   },
   {
    "_defaultOrder": 39,
    "_isFastLaunch": false,
    "category": "Memory Optimized",
    "gpuNum": 0,
    "hideHardwareSpecs": false,
    "memoryGiB": 16,
    "name": "ml.r5.large",
    "vcpuNum": 2
   },
   {
    "_defaultOrder": 40,
    "_isFastLaunch": false,
    "category": "Memory Optimized",
    "gpuNum": 0,
    "hideHardwareSpecs": false,
    "memoryGiB": 32,
    "name": "ml.r5.xlarge",
    "vcpuNum": 4
   },
   {
    "_defaultOrder": 41,
    "_isFastLaunch": false,
    "category": "Memory Optimized",
    "gpuNum": 0,
    "hideHardwareSpecs": false,
    "memoryGiB": 64,
    "name": "ml.r5.2xlarge",
    "vcpuNum": 8
   },
   {
    "_defaultOrder": 42,
    "_isFastLaunch": false,
    "category": "Memory Optimized",
    "gpuNum": 0,
    "hideHardwareSpecs": false,
    "memoryGiB": 128,
    "name": "ml.r5.4xlarge",
    "vcpuNum": 16
   },
   {
    "_defaultOrder": 43,
    "_isFastLaunch": false,
    "category": "Memory Optimized",
    "gpuNum": 0,
    "hideHardwareSpecs": false,
    "memoryGiB": 256,
    "name": "ml.r5.8xlarge",
    "vcpuNum": 32
   },
   {
    "_defaultOrder": 44,
    "_isFastLaunch": false,
    "category": "Memory Optimized",
    "gpuNum": 0,
    "hideHardwareSpecs": false,
    "memoryGiB": 384,
    "name": "ml.r5.12xlarge",
    "vcpuNum": 48
   },
   {
    "_defaultOrder": 45,
    "_isFastLaunch": false,
    "category": "Memory Optimized",
    "gpuNum": 0,
    "hideHardwareSpecs": false,
    "memoryGiB": 512,
    "name": "ml.r5.16xlarge",
    "vcpuNum": 64
   },
   {
    "_defaultOrder": 46,
    "_isFastLaunch": false,
    "category": "Memory Optimized",
    "gpuNum": 0,
    "hideHardwareSpecs": false,
    "memoryGiB": 768,
    "name": "ml.r5.24xlarge",
    "vcpuNum": 96
   },
   {
    "_defaultOrder": 47,
    "_isFastLaunch": false,
    "category": "Accelerated computing",
    "gpuNum": 1,
    "hideHardwareSpecs": false,
    "memoryGiB": 16,
    "name": "ml.g5.xlarge",
    "vcpuNum": 4
   },
   {
    "_defaultOrder": 48,
    "_isFastLaunch": false,
    "category": "Accelerated computing",
    "gpuNum": 1,
    "hideHardwareSpecs": false,
    "memoryGiB": 32,
    "name": "ml.g5.2xlarge",
    "vcpuNum": 8
   },
   {
    "_defaultOrder": 49,
    "_isFastLaunch": false,
    "category": "Accelerated computing",
    "gpuNum": 1,
    "hideHardwareSpecs": false,
    "memoryGiB": 64,
    "name": "ml.g5.4xlarge",
    "vcpuNum": 16
   },
   {
    "_defaultOrder": 50,
    "_isFastLaunch": false,
    "category": "Accelerated computing",
    "gpuNum": 1,
    "hideHardwareSpecs": false,
    "memoryGiB": 128,
    "name": "ml.g5.8xlarge",
    "vcpuNum": 32
   },
   {
    "_defaultOrder": 51,
    "_isFastLaunch": false,
    "category": "Accelerated computing",
    "gpuNum": 1,
    "hideHardwareSpecs": false,
    "memoryGiB": 256,
    "name": "ml.g5.16xlarge",
    "vcpuNum": 64
   },
   {
    "_defaultOrder": 52,
    "_isFastLaunch": false,
    "category": "Accelerated computing",
    "gpuNum": 4,
    "hideHardwareSpecs": false,
    "memoryGiB": 192,
    "name": "ml.g5.12xlarge",
    "vcpuNum": 48
   },
   {
    "_defaultOrder": 53,
    "_isFastLaunch": false,
    "category": "Accelerated computing",
    "gpuNum": 4,
    "hideHardwareSpecs": false,
    "memoryGiB": 384,
    "name": "ml.g5.24xlarge",
    "vcpuNum": 96
   },
   {
    "_defaultOrder": 54,
    "_isFastLaunch": false,
    "category": "Accelerated computing",
    "gpuNum": 8,
    "hideHardwareSpecs": false,
    "memoryGiB": 768,
    "name": "ml.g5.48xlarge",
    "vcpuNum": 192
   },
   {
    "_defaultOrder": 55,
    "_isFastLaunch": false,
    "category": "Accelerated computing",
    "gpuNum": 8,
    "hideHardwareSpecs": false,
    "memoryGiB": 1152,
    "name": "ml.p4d.24xlarge",
    "vcpuNum": 96
   },
   {
    "_defaultOrder": 56,
    "_isFastLaunch": false,
    "category": "Accelerated computing",
    "gpuNum": 8,
    "hideHardwareSpecs": false,
    "memoryGiB": 1152,
    "name": "ml.p4de.24xlarge",
    "vcpuNum": 96
   },
   {
    "_defaultOrder": 57,
    "_isFastLaunch": false,
    "category": "Accelerated computing",
    "gpuNum": 0,
    "hideHardwareSpecs": false,
    "memoryGiB": 32,
    "name": "ml.trn1.2xlarge",
    "vcpuNum": 8
   },
   {
    "_defaultOrder": 58,
    "_isFastLaunch": false,
    "category": "Accelerated computing",
    "gpuNum": 0,
    "hideHardwareSpecs": false,
    "memoryGiB": 512,
    "name": "ml.trn1.32xlarge",
    "vcpuNum": 128
   },
   {
    "_defaultOrder": 59,
    "_isFastLaunch": false,
    "category": "Accelerated computing",
    "gpuNum": 0,
    "hideHardwareSpecs": false,
    "memoryGiB": 512,
    "name": "ml.trn1n.32xlarge",
    "vcpuNum": 128
   }
  ],
  "instance_type": "ml.m5.large",
  "kernelspec": {
   "display_name": "Python 3 (Data Science 3.0)",
   "language": "python",
   "name": "python3__SAGEMAKER_INTERNAL__arn:aws:sagemaker:us-east-1:081325390199:image/sagemaker-data-science-310-v1"
  },
  "language_info": {
   "codemirror_mode": {
    "name": "ipython",
    "version": 3
   },
   "file_extension": ".py",
   "mimetype": "text/x-python",
   "name": "python",
   "nbconvert_exporter": "python",
   "pygments_lexer": "ipython3",
   "version": "3.10.6"
  }
 },
 "nbformat": 4,
 "nbformat_minor": 5
}
